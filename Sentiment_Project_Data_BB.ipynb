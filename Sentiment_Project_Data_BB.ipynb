{
 "cells": [
  {
   "cell_type": "code",
   "execution_count": null,
   "metadata": {},
   "outputs": [],
   "source": [
    "#save all the tickers' names in a list\n",
    "import csv\n",
    "\n",
    "f = open('tickers_list.csv')\n",
    "l = csv.reader(f)\n",
    "tickers = list(l)\n",
    "tickers_list = []\n",
    "\n",
    "for ticker in tickers:\n",
    "    end = ticker[0].find(' ')\n",
    "    symbol = ticker[0][:end]\n",
    "    tickers_list.append(symbol)\n",
    "\n",
    "tickers_list"
   ]
  },
  {
   "cell_type": "code",
   "execution_count": null,
   "metadata": {},
   "outputs": [],
   "source": [
    "import json\n",
    "\n",
    "with open('bloomberg (7).json','rb') as json_file:\n",
    "    data=json.load(json_file)\n",
    "    \n",
    "print(data)"
   ]
  },
  {
   "cell_type": "code",
   "execution_count": null,
   "metadata": {},
   "outputs": [],
   "source": [
    "keyinfo=[]\n",
    "\n",
    "for r in data:\n",
    "    results=r['results']\n",
    "    for i in results:\n",
    "        keyinfo.append((i['publishedAt'],i['url']))"
   ]
  },
  {
   "cell_type": "code",
   "execution_count": null,
   "metadata": {
    "scrolled": false
   },
   "outputs": [],
   "source": [
    "#print(keyinfo)"
   ]
  },
  {
   "cell_type": "code",
   "execution_count": null,
   "metadata": {},
   "outputs": [],
   "source": [
    "len(keyinfo)"
   ]
  },
  {
   "cell_type": "code",
   "execution_count": null,
   "metadata": {},
   "outputs": [],
   "source": [
    "import time\n",
    "import requests\n",
    "import urllib.request\n",
    "from bs4 import BeautifulSoup\n",
    "\n",
    "news_content=[]\n",
    "headers={'X-Crawlera-Session':'create','accept': 'text/html,application/xhtml+xml,application/xml;q=0.9,image/webp,image/apng,*/*;q=0.8','accept-language': 'en-US,en;q=0.9,fr;q=0.8,ro;q=0.7,ru;q=0.6,la;q=0.5,pt;q=0.4,de;q=0.3','cache-control': 'max-age=0','upgrade-insecure-requests': '1','user-agent': 'Mozilla/5.0 (Macintosh; Intel Mac OS X 10_13_6) AppleWebKit/537.36 (KHTML, like Gecko) Chrome/67.0.3396.99 Safari/537.36'}\n",
    "\n",
    "for i in range(len(keyinfo)):\n",
    "    # have to wait or will be treated as a robot\n",
    "#     if i%30==0:\n",
    "#         time.sleep(300)\n",
    "    # get HTML content\n",
    "    time.sleep(2)\n",
    "    response=requests.get(keyinfo[i][1], headers=headers)\n",
    "    \n",
    "    content=response.content.decode('utf-8')\n",
    "    soup = BeautifulSoup(content, 'html.parser')\n",
    "    \n",
    "    # kill all script and style elements\n",
    "    links=soup.find_all('p')\n",
    "    article=[]\n",
    "    for link in links:\n",
    "        article.append(link.text)\n",
    "    \n",
    "    text = ''.join(article)\n",
    "       \n",
    "    #check if other tickers are mentioned:\n",
    "    tickers = tickers_list \n",
    "    flag=True\n",
    "    for t in tickers:\n",
    "        if t=='GOOGL':\n",
    "            tickers.remove('GOOGL')\n",
    "        \n",
    "    for ticker in tickers:    #this ticker's name\n",
    "        if ticker in text:\n",
    "            flag = False\n",
    "        break\n",
    "        \n",
    "    if flag==False:\n",
    "        continue\n",
    "    # add news\n",
    "    news_content.append((keyinfo[i][0],text))\n",
    "    \n",
    "    # ouput news to each file\n",
    "    outfile=open('GOOGL_text/'+str(i)+'_'+keyinfo[i][0]+'.txt','w')\n",
    "    outfile.write(str(news_content[i][0]))\n",
    "    outfile.write('\\n')\n",
    "    outfile.write(news_content[i][1])\n",
    "    outfile.write('\\n')\n",
    "    #outfile.write(str(news_content[i][2]))\n",
    "    outfile.close()"
   ]
  },
  {
   "cell_type": "code",
   "execution_count": null,
   "metadata": {},
   "outputs": [],
   "source": []
  }
 ],
 "metadata": {
  "kernelspec": {
   "display_name": "Python 3",
   "language": "python",
   "name": "python3"
  },
  "language_info": {
   "codemirror_mode": {
    "name": "ipython",
    "version": 3
   },
   "file_extension": ".py",
   "mimetype": "text/x-python",
   "name": "python",
   "nbconvert_exporter": "python",
   "pygments_lexer": "ipython3",
   "version": "3.7.4"
  }
 },
 "nbformat": 4,
 "nbformat_minor": 2
}
